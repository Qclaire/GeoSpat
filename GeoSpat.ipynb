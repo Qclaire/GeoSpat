{
 "cells": [
  {
   "cell_type": "code",
   "execution_count": 12,
   "metadata": {},
   "outputs": [],
   "source": [
    "# All imports in necessary for the function to work\n",
    "from selenium import webdriver\n",
    "from selenium.webdriver.support.ui import WebDriverWait\n",
    "from selenium.webdriver.support import expected_conditions as EC\n",
    "from selenium.webdriver.common.by import By\n",
    "from time import sleep, time\n",
    "from PIL import Image \n",
    "import pathlib\n",
    "import os\n",
    "sleep(1)"
   ]
  },
  {
   "cell_type": "code",
   "execution_count": 10,
   "metadata": {},
   "outputs": [],
   "source": [
    "def locationNameToSatImage(place_name,filename='', zoom=2):\n",
    "    \"zoom levels 1 - 3, you may leave out the filename to choose default\"\n",
    "    start = time()\n",
    "    if not filename:\n",
    "        filename=place_name\n",
    "    if \".jpg\" not in filename or '.png' not in filename:\n",
    "        filename = filename.strip()+'.png'\n",
    "    \n",
    "    zoom = 4 if zoom>4 else zoom\n",
    "    zoom = 1 if zoom<1 else zoom\n",
    "    zoom = int((zoom/4)*16);\n",
    "    \n",
    "    #Helper funtions\n",
    "    #===========================================\n",
    "    def clickBtn(btnObj, clicks):\n",
    "        \"\"\"this is a helper function to click on an element a given number of times\"\"\"\n",
    "        for i in range(clicks):\n",
    "            btnObj.click()\n",
    "            sleep(.5)\n",
    "    #===========================================\n",
    "   \n",
    "    \n",
    "    driver = webdriver.Chrome() # creating a chrome instance\n",
    "    driver.maximize_window() # maximize the window\n",
    "    #wait = WebDriverWait(driver, 10)\n",
    "    url = 'https://earthexplorer.usgs.gov/'\n",
    "    driver.get(url) # open the url\n",
    "    #wait.until(EC.presence_of_element_located((By.CLASS_NAME, 'googleAddress')))\n",
    "    searchBox = driver.find_element_by_name(\"googleAddress\") # find the searchbox to type in\n",
    "    searchBox.send_keys(place_name) # type the location we'er looking for\n",
    "    driver.find_element_by_id(\"geoShow\").click() # submit the search term for query\n",
    "    wait = WebDriverWait(driver, 10)\n",
    "    wait.until(EC.presence_of_element_located((By.CLASS_NAME, 'address')))\n",
    "    \n",
    "    \"\"\" \n",
    "        the site returns the most suitable match for the search term. together with its\n",
    "        longitude and latitude. Assuming it is what we are looking for, we click on it, \n",
    "        to retrieve a remote image for the area using the cordinates returned. \n",
    "    \"\"\"\n",
    "    # extracting the details returned\n",
    "    lat = driver.find_element_by_class_name('lat').text\n",
    "    long = driver.find_element_by_class_name('lng').text\n",
    "    address = driver.find_element_by_class_name('address')\n",
    "    #sleep(5)\n",
    "    address.click() # after extracting the details we click on it\n",
    "    \n",
    "    '''\n",
    "    Most images will come with the a view of the entire continent\n",
    "    This means we would have to zoom in on the area we want to a visible raduis   \n",
    "    '''\n",
    "    \n",
    "    zoomBtn = driver.find_element_by_xpath(\"//button[@title='Zoom in']\") # locate the zoom btn\n",
    "    \n",
    "    \n",
    "    clickBtn(zoomBtn,zoom) # calling on our helper fxn to zoom \n",
    "    sleep(5)\n",
    "    # with a visible image, we need to locate the iframe cotianing the actual satellite iamge\n",
    "    map = driver.find_element_by_tag_name('iframe')\n",
    "    \n",
    "    location = map.location # find its location on the web page [dict]\n",
    "    size = map.size # and its size [dict]\n",
    "    \" the zoom out button (-) will help us find where the window ends and we can crop up to it\"\n",
    "    zoomoutBtn = driver.find_element_by_xpath(\"//button[@title='Zoom out']\") # locate the zoom btn\n",
    "    \n",
    "    # get buttons cordinates\n",
    "    btnLocation = zoomoutBtn.location\n",
    "    cropendX = btnLocation['x']\n",
    "    cropendY = btnLocation['y']\n",
    "    \n",
    "    # extract important info about the geometry of the image\n",
    "    x = location['x']\n",
    "    y = location['y']\n",
    "    w = size['width']\n",
    "    h = size['height']\n",
    "    \n",
    "    # construct its sqaure size\n",
    "    left = int(x)\n",
    "    right = int(x + w)\n",
    "    top = int(y)\n",
    "    bottom = int(y + cropendY)\n",
    "    \n",
    "    driver.save_screenshot(filename) # take  screenshot of the entire page\n",
    "    driver.quit() # close the browser\n",
    "    \n",
    "    \"\"\"\n",
    "        Now we have an image of the location in a screenshot \n",
    "        but the shot also contains all other browser elements\n",
    "        we need to crop it to the actual satellite view \n",
    "        This done using geometrica params we extracted earlier\n",
    "    \"\"\"\n",
    "    # use the PIL libray to open the image, crop and save it\n",
    "    im = Image.open(filename)\n",
    "    im = im.crop((left, top, right, bottom))\n",
    "    im.save(filename)\n",
    "    \n",
    "    #     end = time()\n",
    "    #     dur = end - start\n",
    "    #     print(dur)\n",
    "    return filename"
   ]
  },
  {
   "cell_type": "code",
   "execution_count": 13,
   "metadata": {},
   "outputs": [
    {
     "name": "stdout",
     "output_type": "stream",
     "text": [
      "44.97882127761841\n"
     ]
    },
    {
     "data": {
      "text/plain": [
       "'suma ahenko, ghana.png'"
      ]
     },
     "execution_count": 13,
     "metadata": {},
     "output_type": "execute_result"
    }
   ],
   "source": [
    "locationNameToSatImage('suma ahenko, ghana', zoom=4)"
   ]
  },
  {
   "cell_type": "code",
   "execution_count": null,
   "metadata": {
    "collapsed": true
   },
   "outputs": [],
   "source": []
  },
  {
   "cell_type": "code",
   "execution_count": 107,
   "metadata": {},
   "outputs": [
    {
     "data": {
      "text/plain": [
       "1"
      ]
     },
     "execution_count": 107,
     "metadata": {},
     "output_type": "execute_result"
    }
   ],
   "source": [
    "arr = [2, 2, 1, 1]\n",
    "def smallestMode(arr):\n",
    "    \"\"\"a solution for the hackerank challenge, Migratory birds\"\"\"\n",
    "    s = set(arr)\n",
    "    count = 0\n",
    "    val = 0\n",
    "\n",
    "    for i in s:\n",
    "        c = arr.count(i)\n",
    "        if c>count:\n",
    "            count = c\n",
    "            val = i\n",
    "\n",
    "    return val\n",
    "\n",
    "smallestMode(arr)\n",
    "\n",
    "# dic = {i:arr.count(i) for i in arr}\n",
    "# h = max(dic.values())\n",
    "# k = list(dic.keys())\n",
    "# v =  list(dic.values())\n",
    "\n",
    "# a = k[v.index(h)]\n",
    "# dic\n",
    "\n"
   ]
  },
  {
   "cell_type": "code",
   "execution_count": null,
   "metadata": {},
   "outputs": [],
   "source": [
    "# load the image into pandas\n",
    "import pandas as pd\n",
    "from matplotlib import pyplot as plt\n",
    "W = {'img':[\"./cropped.jpg\"]}\n",
    "df = pd.DataFrame(W)\n",
    "\n",
    "im = plt.imread('cropped.png')\n",
    "\n",
    "plt.imshow(im)\n",
    "plt.show()\n"
   ]
  }
 ],
 "metadata": {
  "kernelspec": {
   "display_name": "Python 3",
   "language": "python",
   "name": "python3"
  },
  "language_info": {
   "codemirror_mode": {
    "name": "ipython",
    "version": 3
   },
   "file_extension": ".py",
   "mimetype": "text/x-python",
   "name": "python",
   "nbconvert_exporter": "python",
   "pygments_lexer": "ipython3",
   "version": "3.7.3"
  }
 },
 "nbformat": 4,
 "nbformat_minor": 2
}
